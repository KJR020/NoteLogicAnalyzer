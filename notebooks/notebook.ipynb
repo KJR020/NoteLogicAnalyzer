{
 "cells": [
  {
   "cell_type": "code",
   "execution_count": 14,
   "metadata": {},
   "outputs": [],
   "source": [
    "import requests\n",
    "import pandas as pd\n",
    "import json\n",
    "\n",
    "\n",
    "contents_api_url=\"https://note.com/api/v3/notes\"\n",
    "# payload = {'kind':'note'}\n",
    "\n",
    "res = requests.get(contents_api_url)\n",
    "# df = pd.read_json(res)\n",
    "df_response = pd.read_json(res.text)\n",
    "pd.DataFrame(df_response[\"data\"].to_dict()).T"
   ]
  }
 ],
 "metadata": {
  "kernelspec": {
   "display_name": ".venv",
   "language": "python",
   "name": "python3"
  },
  "language_info": {
   "codemirror_mode": {
    "name": "ipython",
    "version": 3
   },
   "file_extension": ".py",
   "mimetype": "text/x-python",
   "name": "python",
   "nbconvert_exporter": "python",
   "pygments_lexer": "ipython3",
   "version": "3.11.5"
  }
 },
 "nbformat": 4,
 "nbformat_minor": 2
}
